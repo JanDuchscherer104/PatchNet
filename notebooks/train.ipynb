{
 "cells": [
  {
   "cell_type": "code",
   "execution_count": 1,
   "metadata": {},
   "outputs": [
    {
     "name": "stderr",
     "output_type": "stream",
     "text": [
      "/home/duchsche/miniconda3/envs/prj-robotik/lib/python3.12/site-packages/pydantic/_internal/_fields.py:160: UserWarning: Field \"model_viz_dir\" has conflict with protected namespace \"model_\".\n",
      "\n",
      "You may be able to resolve this warning by setting `model_config['protected_namespaces'] = ()`.\n",
      "  warnings.warn(\n"
     ]
    }
   ],
   "source": [
    "from dl_solver import Config, HyperParameters, TrainerFactory"
   ]
  },
  {
   "cell_type": "code",
   "execution_count": 2,
   "metadata": {},
   "outputs": [],
   "source": [
    "hparams = HyperParameters(batch_size=168, backbone_is_trainable=False)\n",
    "# checkpoint = config.paths.checkpoints / \"R001-May11-17:40-epoch=02-val_loss=7.74.ckpt\"\n",
    "config = Config(\n",
    "    is_debug=False,\n",
    "    is_fast_dev_run=False,\n",
    "    max_epochs=10,\n",
    "    from_ckpt=\"R001-May13-10:20-epoch=00-val_loss=10.84.ckpt\",\n",
    "    paths={\"loss_df\": \"/mnt/c/Users/jandu/Downloads/losses.csv\"},\n",
    ")"
   ]
  },
  {
   "cell_type": "code",
   "execution_count": 3,
   "metadata": {},
   "outputs": [
    {
     "name": "stderr",
     "output_type": "stream",
     "text": [
      "2024/05/16 13:04:05 WARNING mlflow.utils.autologging_utils: You are using an unsupported version of pytorch. If you encounter errors during autologging, try upgrading / downgrading pytorch to a supported version, or try upgrading MLflow.\n"
     ]
    },
    {
     "name": "stderr",
     "output_type": "stream",
     "text": [
      "GPU available: True (cuda), used: True\n",
      "TPU available: False, using: 0 TPU cores\n",
      "IPU available: False, using: 0 IPUs\n",
      "HPU available: False, using: 0 HPUs\n"
     ]
    },
    {
     "name": "stdout",
     "output_type": "stream",
     "text": [
      "Loading model from checkpoint: /home/duchsche/repos/robotik-ss24/src/solver/.logs/checkpoints/R001-May13-10:20-epoch=00-val_loss=10.84.ckpt\n"
     ]
    },
    {
     "name": "stderr",
     "output_type": "stream",
     "text": [
      "/home/duchsche/miniconda3/envs/prj-robotik/lib/python3.12/site-packages/torch/nn/modules/transformer.py:306: UserWarning: enable_nested_tensor is True, but self.use_nested_tensor is False because encoder_layer.activation_relu_or_gelu was not True\n",
      "  warnings.warn(f\"enable_nested_tensor is True, but self.use_nested_tensor is False because {why_not_sparsity_fast_path}\")\n"
     ]
    },
    {
     "name": "stdout",
     "output_type": "stream",
     "text": [
      "Moved PatchNet to cpu.\n"
     ]
    }
   ],
   "source": [
    "trainer, module, datamodule = TrainerFactory.create_all(config, hparams)"
   ]
  },
  {
   "cell_type": "code",
   "execution_count": 4,
   "metadata": {},
   "outputs": [
    {
     "name": "stderr",
     "output_type": "stream",
     "text": [
      "2024/05/16 13:04:07 WARNING mlflow.utils.autologging_utils: MLflow autologging encountered a warning: \"/home/duchsche/miniconda3/envs/prj-robotik/lib/python3.12/site-packages/pytorch_lightning/callbacks/model_checkpoint.py:653: UserWarning: Checkpoint directory /home/duchsche/repos/robotik-ss24/src/solver/.logs/checkpoints exists and is not empty.\"\n",
      "LOCAL_RANK: 0 - CUDA_VISIBLE_DEVICES: [0]\n",
      "2024/05/16 13:04:07 WARNING mlflow.utils.autologging_utils: MLflow autologging encountered a warning: \"/home/duchsche/miniconda3/envs/prj-robotik/lib/python3.12/site-packages/torch/optim/lr_scheduler.py:28: UserWarning: The verbose parameter is deprecated. Please use get_last_lr() to access the learning rate.\"\n",
      "\n",
      "   | Name                                     | Type                     | Params\n",
      "---------------------------------------------------------------------------------------\n",
      "0  | model                                    | PatchNet                 | 47.4 M\n",
      "1  | model.backbone                           | EfficientNetV2           | 21.2 M\n",
      "2  | model.backbone.backbone                  | EfficientNet             | 21.2 M\n",
      "3  | model.backbone.backbone.features         | Sequential               | 20.2 M\n",
      "4  | model.backbone.backbone.avgpool          | AdaptiveAvgPool2d        | 0     \n",
      "5  | model.backbone.backbone.classifier       | Sequential               | 983 K \n",
      "6  | model.transformer                        | Transformer              | 26.2 M\n",
      "7  | model.transformer.encoder                | TransformerEncoder       | 9.5 M \n",
      "8  | model.transformer.encoder.layers         | ModuleList               | 9.5 M \n",
      "9  | model.transformer.encoder.norm           | LayerNorm                | 1.5 K \n",
      "10 | model.transformer.spatial_embedding      | LearnableFourierFeatures | 115 K \n",
      "11 | model.transformer.spatial_embedding.mlp  | Sequential               | 115 K \n",
      "12 | model.transformer.rotation_embedding     | LearnableFourierFeatures | 54.1 K\n",
      "13 | model.transformer.rotation_embedding.mlp | Sequential               | 54.1 K\n",
      "14 | model.transformer.decoder                | TransformerDecoder       | 16.6 M\n",
      "15 | model.transformer.decoder.layers         | ModuleList               | 16.6 M\n",
      "16 | model.transformer.decoder.norm           | LayerNorm                | 1.5 K \n",
      "17 | model.classifier                         | DynamicPuzzleClassifier  | 8.5 K \n",
      "18 | model.classifier.fc_rows                 | Linear                   | 2.3 K \n",
      "19 | model.classifier.fc_cols                 | Linear                   | 3.1 K \n",
      "20 | model.classifier.fc_rot                  | Linear                   | 3.1 K \n",
      "21 | criteria                                 | JigsawCriteria           | 0     \n",
      "22 | criteria.mse_loss                        | MSELoss                  | 0     \n",
      "23 | criteria.ce_loss                         | CrossEntropyLoss         | 0     \n",
      "---------------------------------------------------------------------------------------\n",
      "26.2 M    Trainable params\n",
      "21.2 M    Non-trainable params\n",
      "47.4 M    Total params\n",
      "189.413   Total estimated model params size (MB)\n"
     ]
    },
    {
     "data": {
      "application/vnd.jupyter.widget-view+json": {
       "model_id": "1a54d1c6acf84a889c890e4635a1984d",
       "version_major": 2,
       "version_minor": 0
      },
      "text/plain": [
       "Sanity Checking: |          | 0/? [00:00<?, ?it/s]"
      ]
     },
     "metadata": {},
     "output_type": "display_data"
    },
    {
     "name": "stderr",
     "output_type": "stream",
     "text": [
      "2024/05/16 13:04:15 WARNING mlflow.utils.autologging_utils: MLflow autologging encountered a warning: \"/home/duchsche/miniconda3/envs/prj-robotik/lib/python3.12/site-packages/torch/functional.py:512: UserWarning: torch.meshgrid: in an upcoming release, it will be required to pass the indexing argument. (Triggered internally at ../aten/src/ATen/native/TensorShape.cpp:3587.)\"\n"
     ]
    },
    {
     "data": {
      "application/vnd.jupyter.widget-view+json": {
       "model_id": "3f976b499f3143d8995c3e7be6281305",
       "version_major": 2,
       "version_minor": 0
      },
      "text/plain": [
       "Training: |          | 0/? [00:00<?, ?it/s]"
      ]
     },
     "metadata": {},
     "output_type": "display_data"
    },
    {
     "name": "stderr",
     "output_type": "stream",
     "text": [
      "2024/05/16 13:04:17 WARNING mlflow.utils.autologging_utils: MLflow autologging encountered a warning: \"/home/duchsche/repos/robotik-ss24/src/solver/src/dl_solver/dl_solver/lit_module.py:56: UserWarning: Model device: cuda:0 is different from LightningModule device: cuda:0.\"\n"
     ]
    }
   ],
   "source": [
    "try:\n",
    "    trainer.fit(model=module, datamodule=datamodule)\n",
    "except Exception as e:\n",
    "    module.criteria.save_losses_to_dataframe()\n",
    "    raise e"
   ]
  }
 ],
 "metadata": {
  "kernelspec": {
   "display_name": "prj-robotik",
   "language": "python",
   "name": "python3"
  },
  "language_info": {
   "codemirror_mode": {
    "name": "ipython",
    "version": 3
   },
   "file_extension": ".py",
   "mimetype": "text/x-python",
   "name": "python",
   "nbconvert_exporter": "python",
   "pygments_lexer": "ipython3",
   "version": "3.12.2"
  }
 },
 "nbformat": 4,
 "nbformat_minor": 2
}
