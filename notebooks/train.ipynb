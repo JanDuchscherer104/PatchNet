{
 "cells": [
  {
   "cell_type": "code",
   "execution_count": 1,
   "metadata": {},
   "outputs": [
    {
     "name": "stderr",
     "output_type": "stream",
     "text": [
      "/home/duchsche/miniconda3/envs/prj-robotik/lib/python3.12/site-packages/pydantic/_internal/_fields.py:160: UserWarning: Field \"model_viz_dir\" has conflict with protected namespace \"model_\".\n",
      "\n",
      "You may be able to resolve this warning by setting `model_config['protected_namespaces'] = ()`.\n",
      "  warnings.warn(\n"
     ]
    }
   ],
   "source": [
    "from dl_solver import Config, HyperParameters, TrainerFactory"
   ]
  },
  {
   "cell_type": "code",
   "execution_count": 2,
   "metadata": {},
   "outputs": [],
   "source": [
    "hparams = HyperParameters(batch_size=256, backbone_is_trainable=False)\n",
    "# checkpoint = config.paths.checkpoints / \"R001-May11-17:40-epoch=02-val_loss=7.74.ckpt\"\n",
    "config = Config(\n",
    "    is_debug=False,\n",
    "    max_epochs=10,\n",
    "    paths={\"loss_df\": \"/mnt/c/Users/jandu/Downloads/losses.csv\"},\n",
    ")"
   ]
  },
  {
   "cell_type": "code",
   "execution_count": 3,
   "metadata": {},
   "outputs": [
    {
     "name": "stderr",
     "output_type": "stream",
     "text": [
      "2024/05/17 17:34:48 WARNING mlflow.utils.autologging_utils: You are using an unsupported version of pytorch. If you encounter errors during autologging, try upgrading / downgrading pytorch to a supported version, or try upgrading MLflow.\n",
      "GPU available: True (cuda), used: True\n",
      "TPU available: False, using: 0 TPU cores\n",
      "IPU available: False, using: 0 IPUs\n",
      "HPU available: False, using: 0 HPUs\n"
     ]
    },
    {
     "name": "stdout",
     "output_type": "stream",
     "text": [
      "Moved PatchNet to cpu.\n"
     ]
    },
    {
     "name": "stderr",
     "output_type": "stream",
     "text": [
      "/home/duchsche/miniconda3/envs/prj-robotik/lib/python3.12/site-packages/torch/nn/modules/transformer.py:306: UserWarning: enable_nested_tensor is True, but self.use_nested_tensor is False because encoder_layer.activation_relu_or_gelu was not True\n",
      "  warnings.warn(f\"enable_nested_tensor is True, but self.use_nested_tensor is False because {why_not_sparsity_fast_path}\")\n"
     ]
    }
   ],
   "source": [
    "trainer, module, datamodule = TrainerFactory.create_all(config, hparams)"
   ]
  },
  {
   "cell_type": "code",
   "execution_count": 4,
   "metadata": {},
   "outputs": [
    {
     "name": "stderr",
     "output_type": "stream",
     "text": [
      "2024/05/17 17:34:49 WARNING mlflow.utils.autologging_utils: MLflow autologging encountered a warning: \"/home/duchsche/miniconda3/envs/prj-robotik/lib/python3.12/site-packages/pytorch_lightning/callbacks/model_checkpoint.py:653: UserWarning: Checkpoint directory /home/duchsche/repos/robotik-ss24/src/solver/.logs/checkpoints exists and is not empty.\"\n",
      "LOCAL_RANK: 0 - CUDA_VISIBLE_DEVICES: [0]\n",
      "2024/05/17 17:34:51 WARNING mlflow.utils.autologging_utils: MLflow autologging encountered a warning: \"/home/duchsche/miniconda3/envs/prj-robotik/lib/python3.12/site-packages/torch/optim/lr_scheduler.py:143: UserWarning: Detected call of `lr_scheduler.step()` before `optimizer.step()`. In PyTorch 1.1.0 and later, you should call them in the opposite order: `optimizer.step()` before `lr_scheduler.step()`.  Failure to do this will result in PyTorch skipping the first value of the learning rate schedule. See more details at https://pytorch.org/docs/stable/optim.html#how-to-adjust-learning-rate\"\n",
      "\n",
      "   | Name                                     | Type                     | Params\n",
      "---------------------------------------------------------------------------------------\n",
      "0  | model                                    | PatchNet                 | 47.7 M\n",
      "1  | model.backbone                           | EfficientNetV2           | 21.2 M\n",
      "2  | model.backbone.backbone                  | EfficientNet             | 21.2 M\n",
      "3  | model.backbone.backbone.features         | Sequential               | 20.2 M\n",
      "4  | model.backbone.backbone.avgpool          | AdaptiveAvgPool2d        | 0     \n",
      "5  | model.backbone.backbone.classifier       | Sequential               | 983 K \n",
      "6  | model.transformer                        | Transformer              | 26.0 M\n",
      "7  | model.transformer.encoder                | TransformerEncoder       | 9.5 M \n",
      "8  | model.transformer.encoder.layers         | ModuleList               | 9.5 M \n",
      "9  | model.transformer.encoder.norm           | LayerNorm                | 1.5 K \n",
      "10 | model.transformer.decoder                | TransformerDecoder       | 16.6 M\n",
      "11 | model.transformer.decoder.layers         | ModuleList               | 16.6 M\n",
      "12 | model.transformer.decoder.norm           | LayerNorm                | 1.5 K \n",
      "13 | model.spatial_embedding                  | LearnableFourierFeatures | 230 K \n",
      "14 | model.spatial_embedding.mlp              | Sequential               | 230 K \n",
      "15 | model.spatial_embedding.mlp.0            | Linear                   | 33.0 K\n",
      "16 | model.spatial_embedding.mlp.1            | GELU                     | 0     \n",
      "17 | model.spatial_embedding.mlp.2            | Linear                   | 197 K \n",
      "18 | model.rotation_embedding                 | LearnableFourierFeatures | 52.0 K\n",
      "19 | model.rotation_embedding.mlp             | Sequential               | 52.0 K\n",
      "20 | model.rotation_embedding.mlp.0           | Linear                   | 2.1 K \n",
      "21 | model.rotation_embedding.mlp.1           | GELU                     | 0     \n",
      "22 | model.rotation_embedding.mlp.2           | Linear                   | 49.9 K\n",
      "23 | model.classifier                         | DynamicPuzzleClassifier  | 8.5 K \n",
      "24 | model.classifier.fc_rows                 | Linear                   | 2.3 K \n",
      "25 | model.classifier.fc_cols                 | Linear                   | 3.1 K \n",
      "26 | model.classifier.fc_rot                  | Linear                   | 3.1 K \n",
      "27 | model.puzzle_type_classifier             | PuzzleTypeClassifier     | 232 K \n",
      "28 | model.puzzle_type_classifier.fc          | Linear                   | 2.3 K \n",
      "29 | model.puzzle_type_classifier.embedding   | Sequential               | 230 K \n",
      "30 | model.puzzle_type_classifier.embedding.0 | Softmax                  | 0     \n",
      "31 | model.puzzle_type_classifier.embedding.1 | LearnableFourierFeatures | 230 K \n",
      "32 | criteria                                 | JigsawCriteria           | 0     \n",
      "33 | criteria.mse_loss                        | MSELoss                  | 0     \n",
      "34 | criteria.ce_loss                         | CrossEntropyLoss         | 0     \n",
      "---------------------------------------------------------------------------------------\n",
      "27.5 M    Trainable params\n",
      "20.2 M    Non-trainable params\n",
      "47.7 M    Total params\n",
      "190.802   Total estimated model params size (MB)\n"
     ]
    },
    {
     "data": {
      "application/vnd.jupyter.widget-view+json": {
       "model_id": "ea5fb08341804f77b7bfcee83965b275",
       "version_major": 2,
       "version_minor": 0
      },
      "text/plain": [
       "Sanity Checking: |          | 0/? [00:00<?, ?it/s]"
      ]
     },
     "metadata": {},
     "output_type": "display_data"
    },
    {
     "name": "stderr",
     "output_type": "stream",
     "text": [
      "2024/05/17 17:35:07 WARNING mlflow.utils.autologging_utils: MLflow autologging encountered a warning: \"/home/duchsche/miniconda3/envs/prj-robotik/lib/python3.12/site-packages/torch/functional.py:512: UserWarning: torch.meshgrid: in an upcoming release, it will be required to pass the indexing argument. (Triggered internally at ../aten/src/ATen/native/TensorShape.cpp:3587.)\"\n"
     ]
    },
    {
     "data": {
      "application/vnd.jupyter.widget-view+json": {
       "model_id": "93380c8f9f4440e18534f841d8d44171",
       "version_major": 2,
       "version_minor": 0
      },
      "text/plain": [
       "Training: |          | 0/? [00:00<?, ?it/s]"
      ]
     },
     "metadata": {},
     "output_type": "display_data"
    },
    {
     "data": {
      "application/vnd.jupyter.widget-view+json": {
       "model_id": "29dbd39ca8b24b049bc37540979d11ff",
       "version_major": 2,
       "version_minor": 0
      },
      "text/plain": [
       "Validation: |          | 0/? [00:00<?, ?it/s]"
      ]
     },
     "metadata": {},
     "output_type": "display_data"
    },
    {
     "name": "stderr",
     "output_type": "stream",
     "text": [
      "Metric val_loss improved. New best score: 24.827\n",
      "Epoch 0, global step 248: 'val_loss' reached 24.82738 (best 24.82738), saving model to '/home/duchsche/repos/robotik-ss24/src/solver/.logs/checkpoints/R006-May17-17:34-epoch=00-val_loss=24.83.ckpt' as top 1\n"
     ]
    },
    {
     "data": {
      "application/vnd.jupyter.widget-view+json": {
       "model_id": "a41fc2ad71844f11b71ff9342bf0c2dd",
       "version_major": 2,
       "version_minor": 0
      },
      "text/plain": [
       "Validation: |          | 0/? [00:00<?, ?it/s]"
      ]
     },
     "metadata": {},
     "output_type": "display_data"
    },
    {
     "name": "stderr",
     "output_type": "stream",
     "text": [
      "Metric val_loss improved by 0.109 >= min_delta = 0.0. New best score: 24.719\n",
      "Epoch 1, global step 496: 'val_loss' reached 24.71885 (best 24.71885), saving model to '/home/duchsche/repos/robotik-ss24/src/solver/.logs/checkpoints/R006-May17-17:34-epoch=01-val_loss=24.72.ckpt' as top 1\n"
     ]
    }
   ],
   "source": [
    "try:\n",
    "    trainer.fit(model=module, datamodule=datamodule)\n",
    "except Exception as e:\n",
    "    module.criteria.save_losses_to_dataframe()\n",
    "    raise e"
   ]
  },
  {
   "cell_type": "code",
   "execution_count": null,
   "metadata": {},
   "outputs": [],
   "source": []
  },
  {
   "cell_type": "code",
   "execution_count": null,
   "metadata": {},
   "outputs": [],
   "source": []
  },
  {
   "cell_type": "code",
   "execution_count": null,
   "metadata": {},
   "outputs": [],
   "source": []
  }
 ],
 "metadata": {
  "kernelspec": {
   "display_name": "prj-robotik",
   "language": "python",
   "name": "python3"
  },
  "language_info": {
   "codemirror_mode": {
    "name": "ipython",
    "version": 3
   },
   "file_extension": ".py",
   "mimetype": "text/x-python",
   "name": "python",
   "nbconvert_exporter": "python",
   "pygments_lexer": "ipython3",
   "version": "3.12.2"
  }
 },
 "nbformat": 4,
 "nbformat_minor": 2
}
