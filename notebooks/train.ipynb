{
 "cells": [
  {
   "cell_type": "code",
   "execution_count": 1,
   "metadata": {},
   "outputs": [
    {
     "name": "stderr",
     "output_type": "stream",
     "text": [
      "/home/duchsche/miniconda3/envs/prj-robotik/lib/python3.12/site-packages/pydantic/_internal/_fields.py:160: UserWarning: Field \"model_viz_dir\" has conflict with protected namespace \"model_\".\n",
      "\n",
      "You may be able to resolve this warning by setting `model_config['protected_namespaces'] = ()`.\n",
      "  warnings.warn(\n"
     ]
    }
   ],
   "source": [
    "from dl_solver import LitJigsawDatamodule, LitJigsawModule, Config, HyperParameters, TrainerFactory"
   ]
  },
  {
   "cell_type": "code",
   "execution_count": 2,
   "metadata": {},
   "outputs": [],
   "source": [
    "hparams = HyperParameters()\n",
    "config = Config(is_debug=True, is_fast_dev_run=True)"
   ]
  },
  {
   "cell_type": "code",
   "execution_count": 3,
   "metadata": {},
   "outputs": [
    {
     "name": "stderr",
     "output_type": "stream",
     "text": [
      "GPU available: True (cuda), used: False\n",
      "TPU available: False, using: 0 TPU cores\n",
      "IPU available: False, using: 0 IPUs\n",
      "HPU available: False, using: 0 HPUs\n",
      "/home/duchsche/miniconda3/envs/prj-robotik/lib/python3.12/site-packages/pytorch_lightning/trainer/setup.py:187: GPU available but not used. You can set it by doing `Trainer(accelerator='gpu')`.\n",
      "Running in `fast_dev_run` mode: will run the requested loop using 1 batch(es). Logging and checkpointing is suppressed.\n"
     ]
    }
   ],
   "source": [
    "trainer = TrainerFactory.create_trainer(config, hparams)"
   ]
  },
  {
   "cell_type": "code",
   "execution_count": 4,
   "metadata": {},
   "outputs": [
    {
     "name": "stderr",
     "output_type": "stream",
     "text": [
      "/home/duchsche/miniconda3/envs/prj-robotik/lib/python3.12/site-packages/torch/nn/modules/transformer.py:306: UserWarning: enable_nested_tensor is True, but self.use_nested_tensor is False because encoder_layer.activation_relu_or_gelu was not True\n",
      "  warnings.warn(f\"enable_nested_tensor is True, but self.use_nested_tensor is False because {why_not_sparsity_fast_path}\")\n"
     ]
    }
   ],
   "source": [
    "data_module = LitJigsawDatamodule(config, hparams)\n",
    "data_module.setup(\"fit\")\n",
    "module = LitJigsawModule(config, hparams)"
   ]
  },
  {
   "cell_type": "code",
   "execution_count": 5,
   "metadata": {},
   "outputs": [
    {
     "name": "stderr",
     "output_type": "stream",
     "text": [
      "/home/duchsche/miniconda3/envs/prj-robotik/lib/python3.12/site-packages/pytorch_lightning/trainer/configuration_validator.py:74: You defined a `validation_step` but have no `val_dataloader`. Skipping val loop.\n",
      "\n",
      "   | Name                                     | Type                     | Params\n",
      "---------------------------------------------------------------------------------------\n",
      "0  | model                                    | PatchNet                 | 24.5 M\n",
      "1  | model.backbone                           | EfficientNetV2           | 20.5 M\n",
      "2  | model.backbone.backbone                  | EfficientNet             | 20.5 M\n",
      "3  | model.backbone.backbone.features         | Sequential               | 20.2 M\n",
      "4  | model.backbone.backbone.avgpool          | AdaptiveAvgPool2d        | 0     \n",
      "5  | model.backbone.backbone.classifier       | Sequential               | 327 K \n",
      "6  | model.transformer                        | Transformer              | 4.0 M \n",
      "7  | model.transformer.encoder                | TransformerEncoder       | 1.6 M \n",
      "8  | model.transformer.encoder.layers         | ModuleList               | 1.6 M \n",
      "9  | model.transformer.spatial_embedding      | LearnableFourierFeatures | 49.7 K\n",
      "10 | model.transformer.spatial_embedding.mlp  | Sequential               | 49.5 K\n",
      "11 | model.transformer.rotation_embedding     | LearnableFourierFeatures | 20.8 K\n",
      "12 | model.transformer.rotation_embedding.mlp | Sequential               | 20.8 K\n",
      "13 | model.transformer.decoder                | TransformerDecoder       | 2.4 M \n",
      "14 | model.transformer.decoder.layers         | ModuleList               | 2.4 M \n",
      "15 | model.classifier                         | DynamicPuzzleClassifier  | 2.8 K \n",
      "16 | model.classifier.fc_rows                 | Linear                   | 771   \n",
      "17 | model.classifier.fc_cols                 | Linear                   | 1.0 K \n",
      "18 | model.classifier.fc_rotation             | Linear                   | 1.0 K \n",
      "19 | mse_loss                                 | MSELoss                  | 0     \n",
      "20 | ce_loss                                  | CrossEntropyLoss         | 0     \n",
      "---------------------------------------------------------------------------------------\n",
      "4.0 M     Trainable params\n",
      "20.5 M    Non-trainable params\n",
      "24.5 M    Total params\n",
      "98.130    Total estimated model params size (MB)\n",
      "/home/duchsche/miniconda3/envs/prj-robotik/lib/python3.12/site-packages/pytorch_lightning/trainer/connectors/data_connector.py:441: The 'train_dataloader' does not have many workers which may be a bottleneck. Consider increasing the value of the `num_workers` argument` to `num_workers=15` in the `DataLoader` to improve performance.\n"
     ]
    },
    {
     "data": {
      "application/vnd.jupyter.widget-view+json": {
       "model_id": "ac8372c4129f4354b5f6c25113160b3c",
       "version_major": 2,
       "version_minor": 0
      },
      "text/plain": [
       "Training: |          | 0/? [00:00<?, ?it/s]"
      ]
     },
     "metadata": {},
     "output_type": "display_data"
    },
    {
     "name": "stderr",
     "output_type": "stream",
     "text": [
      "`Trainer.fit` stopped: `max_steps=1` reached.\n"
     ]
    }
   ],
   "source": [
    "trainer.fit(model=module, train_dataloaders=data_module.train_dataloader())"
   ]
  },
  {
   "cell_type": "code",
   "execution_count": 6,
   "metadata": {},
   "outputs": [],
   "source": [
    "# module.make_graph(next(iter(data_module.train_dataloader()))) # throws!"
   ]
  },
  {
   "cell_type": "code",
   "execution_count": 7,
   "metadata": {},
   "outputs": [],
   "source": [
    "# module.torchviz_model(next(iter(data_module.train_dataloader()))) # throws!"
   ]
  }
 ],
 "metadata": {
  "kernelspec": {
   "display_name": "prj-robotik",
   "language": "python",
   "name": "python3"
  },
  "language_info": {
   "codemirror_mode": {
    "name": "ipython",
    "version": 3
   },
   "file_extension": ".py",
   "mimetype": "text/x-python",
   "name": "python",
   "nbconvert_exporter": "python",
   "pygments_lexer": "ipython3",
   "version": "3.12.2"
  }
 },
 "nbformat": 4,
 "nbformat_minor": 2
}
