{
 "cells": [
  {
   "cell_type": "code",
   "execution_count": 1,
   "metadata": {},
   "outputs": [
    {
     "name": "stderr",
     "output_type": "stream",
     "text": [
      "/home/duchsche/miniconda3/envs/prj-robotik/lib/python3.12/site-packages/pydantic/_internal/_fields.py:160: UserWarning: Field \"model_viz_dir\" has conflict with protected namespace \"model_\".\n",
      "\n",
      "You may be able to resolve this warning by setting `model_config['protected_namespaces'] = ()`.\n",
      "  warnings.warn(\n"
     ]
    }
   ],
   "source": [
    "from dl_solver import Config, JigsawDataset\n",
    "from data_handling import ImageNetParser\n",
    "import pandas as pd\n",
    "import seaborn as sns"
   ]
  },
  {
   "cell_type": "code",
   "execution_count": 2,
   "metadata": {},
   "outputs": [],
   "source": [
    "config = Config(is_multiproc=True)"
   ]
  },
  {
   "cell_type": "code",
   "execution_count": 3,
   "metadata": {},
   "outputs": [],
   "source": [
    "ds = JigsawDataset(dataset_dir=config.paths.jigsaw_dir, split='train', puzzle_shape=(None, None), transforms=None)"
   ]
  },
  {
   "cell_type": "code",
   "execution_count": 4,
   "metadata": {},
   "outputs": [
    {
     "data": {
      "text/html": [
       "<div>\n",
       "<style scoped>\n",
       "    .dataframe tbody tr th:only-of-type {\n",
       "        vertical-align: middle;\n",
       "    }\n",
       "\n",
       "    .dataframe tbody tr th {\n",
       "        vertical-align: top;\n",
       "    }\n",
       "\n",
       "    .dataframe thead th {\n",
       "        text-align: right;\n",
       "    }\n",
       "</style>\n",
       "<table border=\"1\" class=\"dataframe\">\n",
       "  <thead>\n",
       "    <tr style=\"text-align: right;\">\n",
       "      <th></th>\n",
       "      <th>image_id</th>\n",
       "      <th>class_id</th>\n",
       "      <th>cols</th>\n",
       "      <th>height</th>\n",
       "      <th>max_height</th>\n",
       "      <th>max_width</th>\n",
       "      <th>min_height</th>\n",
       "      <th>min_width</th>\n",
       "      <th>num_sample</th>\n",
       "      <th>piece_count</th>\n",
       "      <th>rows</th>\n",
       "      <th>stochastic_nub</th>\n",
       "      <th>width</th>\n",
       "    </tr>\n",
       "  </thead>\n",
       "  <tbody>\n",
       "    <tr>\n",
       "      <th>0</th>\n",
       "      <td>n01440764_10040</td>\n",
       "      <td>n01440764</td>\n",
       "      <td>4</td>\n",
       "      <td>375</td>\n",
       "      <td>169</td>\n",
       "      <td>178</td>\n",
       "      <td>169</td>\n",
       "      <td>161</td>\n",
       "      <td>10040</td>\n",
       "      <td>12</td>\n",
       "      <td>3</td>\n",
       "      <td>True</td>\n",
       "      <td>500</td>\n",
       "    </tr>\n",
       "    <tr>\n",
       "      <th>1</th>\n",
       "      <td>n01440764_10048</td>\n",
       "      <td>n01440764</td>\n",
       "      <td>4</td>\n",
       "      <td>300</td>\n",
       "      <td>158</td>\n",
       "      <td>166</td>\n",
       "      <td>104</td>\n",
       "      <td>106</td>\n",
       "      <td>10048</td>\n",
       "      <td>12</td>\n",
       "      <td>3</td>\n",
       "      <td>False</td>\n",
       "      <td>400</td>\n",
       "    </tr>\n",
       "    <tr>\n",
       "      <th>2</th>\n",
       "      <td>n01440764_1009</td>\n",
       "      <td>n01440764</td>\n",
       "      <td>4</td>\n",
       "      <td>375</td>\n",
       "      <td>175</td>\n",
       "      <td>198</td>\n",
       "      <td>175</td>\n",
       "      <td>137</td>\n",
       "      <td>1009</td>\n",
       "      <td>12</td>\n",
       "      <td>3</td>\n",
       "      <td>True</td>\n",
       "      <td>500</td>\n",
       "    </tr>\n",
       "    <tr>\n",
       "      <th>3</th>\n",
       "      <td>n01440764_10293</td>\n",
       "      <td>n01440764</td>\n",
       "      <td>4</td>\n",
       "      <td>375</td>\n",
       "      <td>200</td>\n",
       "      <td>202</td>\n",
       "      <td>169</td>\n",
       "      <td>135</td>\n",
       "      <td>10293</td>\n",
       "      <td>12</td>\n",
       "      <td>3</td>\n",
       "      <td>True</td>\n",
       "      <td>500</td>\n",
       "    </tr>\n",
       "    <tr>\n",
       "      <th>4</th>\n",
       "      <td>n01440764_10342</td>\n",
       "      <td>n01440764</td>\n",
       "      <td>6</td>\n",
       "      <td>234</td>\n",
       "      <td>114</td>\n",
       "      <td>122</td>\n",
       "      <td>97</td>\n",
       "      <td>87</td>\n",
       "      <td>10342</td>\n",
       "      <td>18</td>\n",
       "      <td>3</td>\n",
       "      <td>True</td>\n",
       "      <td>500</td>\n",
       "    </tr>\n",
       "  </tbody>\n",
       "</table>\n",
       "</div>"
      ],
      "text/plain": [
       "          image_id   class_id  cols  height  max_height  max_width  \\\n",
       "0  n01440764_10040  n01440764     4     375         169        178   \n",
       "1  n01440764_10048  n01440764     4     300         158        166   \n",
       "2   n01440764_1009  n01440764     4     375         175        198   \n",
       "3  n01440764_10293  n01440764     4     375         200        202   \n",
       "4  n01440764_10342  n01440764     6     234         114        122   \n",
       "\n",
       "   min_height  min_width  num_sample  piece_count  rows  stochastic_nub  width  \n",
       "0         169        161       10040           12     3            True    500  \n",
       "1         104        106       10048           12     3           False    400  \n",
       "2         175        137        1009           12     3            True    500  \n",
       "3         169        135       10293           12     3            True    500  \n",
       "4          97         87       10342           18     3            True    500  "
      ]
     },
     "execution_count": 4,
     "metadata": {},
     "output_type": "execute_result"
    }
   ],
   "source": [
    "ds.df.head()"
   ]
  },
  {
   "cell_type": "code",
   "execution_count": 9,
   "metadata": {},
   "outputs": [
    {
     "ename": "ValueError",
     "evalue": "a must be greater than 0 unless no samples are taken",
     "output_type": "error",
     "traceback": [
      "\u001b[0;31m---------------------------------------------------------------------------\u001b[0m",
      "\u001b[0;31mValueError\u001b[0m                                Traceback (most recent call last)",
      "Cell \u001b[0;32mIn[9], line 1\u001b[0m\n\u001b[0;32m----> 1\u001b[0m df \u001b[38;5;241m=\u001b[39m \u001b[43mds\u001b[49m\u001b[38;5;241;43m.\u001b[39;49m\u001b[43mfiltered_df\u001b[49m\u001b[38;5;241;43m.\u001b[39;49m\u001b[43mquery\u001b[49m\u001b[43m(\u001b[49m\u001b[38;5;124;43m\"\u001b[39;49m\u001b[38;5;124;43mstochastic_nub == False\u001b[39;49m\u001b[38;5;124;43m\"\u001b[39;49m\u001b[43m)\u001b[49m\u001b[38;5;241;43m.\u001b[39;49m\u001b[43msample\u001b[49m\u001b[43m(\u001b[49m\u001b[38;5;241;43m1\u001b[39;49m\u001b[43m)\u001b[49m\n\u001b[1;32m      2\u001b[0m df\u001b[38;5;241m.\u001b[39mindex\n",
      "File \u001b[0;32m~/miniconda3/envs/prj-robotik/lib/python3.12/site-packages/pandas/core/generic.py:6118\u001b[0m, in \u001b[0;36mNDFrame.sample\u001b[0;34m(self, n, frac, replace, weights, random_state, axis, ignore_index)\u001b[0m\n\u001b[1;32m   6115\u001b[0m \u001b[38;5;28;01mif\u001b[39;00m weights \u001b[38;5;129;01mis\u001b[39;00m \u001b[38;5;129;01mnot\u001b[39;00m \u001b[38;5;28;01mNone\u001b[39;00m:\n\u001b[1;32m   6116\u001b[0m     weights \u001b[38;5;241m=\u001b[39m sample\u001b[38;5;241m.\u001b[39mpreprocess_weights(\u001b[38;5;28mself\u001b[39m, weights, axis)\n\u001b[0;32m-> 6118\u001b[0m sampled_indices \u001b[38;5;241m=\u001b[39m \u001b[43msample\u001b[49m\u001b[38;5;241;43m.\u001b[39;49m\u001b[43msample\u001b[49m\u001b[43m(\u001b[49m\u001b[43mobj_len\u001b[49m\u001b[43m,\u001b[49m\u001b[43m \u001b[49m\u001b[43msize\u001b[49m\u001b[43m,\u001b[49m\u001b[43m \u001b[49m\u001b[43mreplace\u001b[49m\u001b[43m,\u001b[49m\u001b[43m \u001b[49m\u001b[43mweights\u001b[49m\u001b[43m,\u001b[49m\u001b[43m \u001b[49m\u001b[43mrs\u001b[49m\u001b[43m)\u001b[49m\n\u001b[1;32m   6119\u001b[0m result \u001b[38;5;241m=\u001b[39m \u001b[38;5;28mself\u001b[39m\u001b[38;5;241m.\u001b[39mtake(sampled_indices, axis\u001b[38;5;241m=\u001b[39maxis)\n\u001b[1;32m   6121\u001b[0m \u001b[38;5;28;01mif\u001b[39;00m ignore_index:\n",
      "File \u001b[0;32m~/miniconda3/envs/prj-robotik/lib/python3.12/site-packages/pandas/core/sample.py:152\u001b[0m, in \u001b[0;36msample\u001b[0;34m(obj_len, size, replace, weights, random_state)\u001b[0m\n\u001b[1;32m    149\u001b[0m     \u001b[38;5;28;01melse\u001b[39;00m:\n\u001b[1;32m    150\u001b[0m         \u001b[38;5;28;01mraise\u001b[39;00m \u001b[38;5;167;01mValueError\u001b[39;00m(\u001b[38;5;124m\"\u001b[39m\u001b[38;5;124mInvalid weights: weights sum to zero\u001b[39m\u001b[38;5;124m\"\u001b[39m)\n\u001b[0;32m--> 152\u001b[0m \u001b[38;5;28;01mreturn\u001b[39;00m \u001b[43mrandom_state\u001b[49m\u001b[38;5;241;43m.\u001b[39;49m\u001b[43mchoice\u001b[49m\u001b[43m(\u001b[49m\u001b[43mobj_len\u001b[49m\u001b[43m,\u001b[49m\u001b[43m \u001b[49m\u001b[43msize\u001b[49m\u001b[38;5;241;43m=\u001b[39;49m\u001b[43msize\u001b[49m\u001b[43m,\u001b[49m\u001b[43m \u001b[49m\u001b[43mreplace\u001b[49m\u001b[38;5;241;43m=\u001b[39;49m\u001b[43mreplace\u001b[49m\u001b[43m,\u001b[49m\u001b[43m \u001b[49m\u001b[43mp\u001b[49m\u001b[38;5;241;43m=\u001b[39;49m\u001b[43mweights\u001b[49m\u001b[43m)\u001b[49m\u001b[38;5;241m.\u001b[39mastype(\n\u001b[1;32m    153\u001b[0m     np\u001b[38;5;241m.\u001b[39mintp, copy\u001b[38;5;241m=\u001b[39m\u001b[38;5;28;01mFalse\u001b[39;00m\n\u001b[1;32m    154\u001b[0m )\n",
      "File \u001b[0;32mnumpy/random/mtrand.pyx:945\u001b[0m, in \u001b[0;36mnumpy.random.mtrand.RandomState.choice\u001b[0;34m()\u001b[0m\n",
      "\u001b[0;31mValueError\u001b[0m: a must be greater than 0 unless no samples are taken"
     ]
    }
   ],
   "source": [
    "df = ds.filtered_df.query(\"stochastic_nub == False\").sample(1)\n",
    "df.index"
   ]
  },
  {
   "cell_type": "code",
   "execution_count": 7,
   "metadata": {},
   "outputs": [
    {
     "ename": "IndexError",
     "evalue": "single positional indexer is out-of-bounds",
     "output_type": "error",
     "traceback": [
      "\u001b[0;31m---------------------------------------------------------------------------\u001b[0m",
      "\u001b[0;31mIndexError\u001b[0m                                Traceback (most recent call last)",
      "Cell \u001b[0;32mIn[7], line 1\u001b[0m\n\u001b[0;32m----> 1\u001b[0m \u001b[43mds\u001b[49m\u001b[38;5;241;43m.\u001b[39;49m\u001b[43mplot_sample\u001b[49m\u001b[43m(\u001b[49m\u001b[43midx\u001b[49m\u001b[38;5;241;43m=\u001b[39;49m\u001b[38;5;241;43m26821\u001b[39;49m\u001b[43m)\u001b[49m\n",
      "File \u001b[0;32m~/repos/robotik-ss24/src/solver/src/dl_solver/dl_solver/jigsaw_dataset.py:135\u001b[0m, in \u001b[0;36mJigsawDataset.plot_sample\u001b[0;34m(self, idx, pieces_and_labels, is_plot)\u001b[0m\n\u001b[1;32m    133\u001b[0m \u001b[38;5;28;01melse\u001b[39;00m:\n\u001b[1;32m    134\u001b[0m     idx \u001b[38;5;241m=\u001b[39m idx \u001b[38;5;129;01mor\u001b[39;00m np\u001b[38;5;241m.\u001b[39mrandom\u001b[38;5;241m.\u001b[39mrandint(\u001b[38;5;241m0\u001b[39m, \u001b[38;5;28mlen\u001b[39m(\u001b[38;5;28mself\u001b[39m) \u001b[38;5;241m-\u001b[39m \u001b[38;5;241m1\u001b[39m)\n\u001b[0;32m--> 135\u001b[0m     puzzle_pieces, labels \u001b[38;5;241m=\u001b[39m \u001b[38;5;28;43mself\u001b[39;49m\u001b[43m[\u001b[49m\u001b[43midx\u001b[49m\u001b[43m]\u001b[49m\n\u001b[1;32m    137\u001b[0m rows, cols \u001b[38;5;241m=\u001b[39m \u001b[38;5;28mself\u001b[39m\u001b[38;5;241m.\u001b[39mpuzzle_shape\n\u001b[1;32m    139\u001b[0m _, axs \u001b[38;5;241m=\u001b[39m plt\u001b[38;5;241m.\u001b[39msubplots(\n\u001b[1;32m    140\u001b[0m     rows,\n\u001b[1;32m    141\u001b[0m     cols,\n\u001b[1;32m    142\u001b[0m     figsize\u001b[38;5;241m=\u001b[39m(cols \u001b[38;5;241m*\u001b[39m \u001b[38;5;241m2\u001b[39m, rows \u001b[38;5;241m*\u001b[39m \u001b[38;5;241m2\u001b[39m),\n\u001b[1;32m    143\u001b[0m )\n",
      "File \u001b[0;32m~/repos/robotik-ss24/src/solver/src/dl_solver/dl_solver/jigsaw_dataset.py:101\u001b[0m, in \u001b[0;36mJigsawDataset.__getitem__\u001b[0;34m(self, idx)\u001b[0m\n\u001b[1;32m     98\u001b[0m \u001b[38;5;28;01mif\u001b[39;00m torch\u001b[38;5;241m.\u001b[39mis_tensor(idx):\n\u001b[1;32m     99\u001b[0m     idx \u001b[38;5;241m=\u001b[39m idx\u001b[38;5;241m.\u001b[39mtolist()\n\u001b[0;32m--> 101\u001b[0m row \u001b[38;5;241m=\u001b[39m \u001b[38;5;28;43mself\u001b[39;49m\u001b[38;5;241;43m.\u001b[39;49m\u001b[43mfiltered_df\u001b[49m\u001b[38;5;241;43m.\u001b[39;49m\u001b[43miloc\u001b[49m\u001b[43m[\u001b[49m\u001b[43midx\u001b[49m\u001b[43m]\u001b[49m\n\u001b[1;32m    102\u001b[0m class_dir \u001b[38;5;241m=\u001b[39m \u001b[38;5;28mself\u001b[39m\u001b[38;5;241m.\u001b[39mdataset_dir \u001b[38;5;241m/\u001b[39m \u001b[38;5;124m\"\u001b[39m\u001b[38;5;124mimages\u001b[39m\u001b[38;5;124m\"\u001b[39m \u001b[38;5;241m/\u001b[39m \u001b[38;5;28mself\u001b[39m\u001b[38;5;241m.\u001b[39msplit \u001b[38;5;241m/\u001b[39m row[\u001b[38;5;124m\"\u001b[39m\u001b[38;5;124mclass_id\u001b[39m\u001b[38;5;124m\"\u001b[39m]\n\u001b[1;32m    103\u001b[0m \u001b[38;5;28;01mif\u001b[39;00m \u001b[38;5;28mself\u001b[39m\u001b[38;5;241m.\u001b[39msplit \u001b[38;5;241m==\u001b[39m \u001b[38;5;124m\"\u001b[39m\u001b[38;5;124mtrain\u001b[39m\u001b[38;5;124m\"\u001b[39m:\n",
      "File \u001b[0;32m~/miniconda3/envs/prj-robotik/lib/python3.12/site-packages/pandas/core/indexing.py:1191\u001b[0m, in \u001b[0;36m_LocationIndexer.__getitem__\u001b[0;34m(self, key)\u001b[0m\n\u001b[1;32m   1189\u001b[0m maybe_callable \u001b[38;5;241m=\u001b[39m com\u001b[38;5;241m.\u001b[39mapply_if_callable(key, \u001b[38;5;28mself\u001b[39m\u001b[38;5;241m.\u001b[39mobj)\n\u001b[1;32m   1190\u001b[0m maybe_callable \u001b[38;5;241m=\u001b[39m \u001b[38;5;28mself\u001b[39m\u001b[38;5;241m.\u001b[39m_check_deprecated_callable_usage(key, maybe_callable)\n\u001b[0;32m-> 1191\u001b[0m \u001b[38;5;28;01mreturn\u001b[39;00m \u001b[38;5;28;43mself\u001b[39;49m\u001b[38;5;241;43m.\u001b[39;49m\u001b[43m_getitem_axis\u001b[49m\u001b[43m(\u001b[49m\u001b[43mmaybe_callable\u001b[49m\u001b[43m,\u001b[49m\u001b[43m \u001b[49m\u001b[43maxis\u001b[49m\u001b[38;5;241;43m=\u001b[39;49m\u001b[43maxis\u001b[49m\u001b[43m)\u001b[49m\n",
      "File \u001b[0;32m~/miniconda3/envs/prj-robotik/lib/python3.12/site-packages/pandas/core/indexing.py:1752\u001b[0m, in \u001b[0;36m_iLocIndexer._getitem_axis\u001b[0;34m(self, key, axis)\u001b[0m\n\u001b[1;32m   1749\u001b[0m     \u001b[38;5;28;01mraise\u001b[39;00m \u001b[38;5;167;01mTypeError\u001b[39;00m(\u001b[38;5;124m\"\u001b[39m\u001b[38;5;124mCannot index by location index with a non-integer key\u001b[39m\u001b[38;5;124m\"\u001b[39m)\n\u001b[1;32m   1751\u001b[0m \u001b[38;5;66;03m# validate the location\u001b[39;00m\n\u001b[0;32m-> 1752\u001b[0m \u001b[38;5;28;43mself\u001b[39;49m\u001b[38;5;241;43m.\u001b[39;49m\u001b[43m_validate_integer\u001b[49m\u001b[43m(\u001b[49m\u001b[43mkey\u001b[49m\u001b[43m,\u001b[49m\u001b[43m \u001b[49m\u001b[43maxis\u001b[49m\u001b[43m)\u001b[49m\n\u001b[1;32m   1754\u001b[0m \u001b[38;5;28;01mreturn\u001b[39;00m \u001b[38;5;28mself\u001b[39m\u001b[38;5;241m.\u001b[39mobj\u001b[38;5;241m.\u001b[39m_ixs(key, axis\u001b[38;5;241m=\u001b[39maxis)\n",
      "File \u001b[0;32m~/miniconda3/envs/prj-robotik/lib/python3.12/site-packages/pandas/core/indexing.py:1685\u001b[0m, in \u001b[0;36m_iLocIndexer._validate_integer\u001b[0;34m(self, key, axis)\u001b[0m\n\u001b[1;32m   1683\u001b[0m len_axis \u001b[38;5;241m=\u001b[39m \u001b[38;5;28mlen\u001b[39m(\u001b[38;5;28mself\u001b[39m\u001b[38;5;241m.\u001b[39mobj\u001b[38;5;241m.\u001b[39m_get_axis(axis))\n\u001b[1;32m   1684\u001b[0m \u001b[38;5;28;01mif\u001b[39;00m key \u001b[38;5;241m>\u001b[39m\u001b[38;5;241m=\u001b[39m len_axis \u001b[38;5;129;01mor\u001b[39;00m key \u001b[38;5;241m<\u001b[39m \u001b[38;5;241m-\u001b[39mlen_axis:\n\u001b[0;32m-> 1685\u001b[0m     \u001b[38;5;28;01mraise\u001b[39;00m \u001b[38;5;167;01mIndexError\u001b[39;00m(\u001b[38;5;124m\"\u001b[39m\u001b[38;5;124msingle positional indexer is out-of-bounds\u001b[39m\u001b[38;5;124m\"\u001b[39m)\n",
      "\u001b[0;31mIndexError\u001b[0m: single positional indexer is out-of-bounds"
     ]
    }
   ],
   "source": [
    "ds.plot_sample(idx=26821)"
   ]
  },
  {
   "cell_type": "code",
   "execution_count": 4,
   "metadata": {},
   "outputs": [
    {
     "name": "stdout",
     "output_type": "stream",
     "text": [
      "<class 'pandas.core.frame.DataFrame'>\n",
      "RangeIndex: 231653 entries, 0 to 231652\n",
      "Data columns (total 13 columns):\n",
      " #   Column          Non-Null Count   Dtype \n",
      "---  ------          --------------   ----- \n",
      " 0   image_id        231653 non-null  object\n",
      " 1   class_id        231653 non-null  object\n",
      " 2   cols            231653 non-null  int64 \n",
      " 3   height          231653 non-null  int64 \n",
      " 4   max_height      231653 non-null  int64 \n",
      " 5   max_width       231653 non-null  int64 \n",
      " 6   min_height      231653 non-null  int64 \n",
      " 7   min_width       231653 non-null  int64 \n",
      " 8   num_sample      231653 non-null  int64 \n",
      " 9   piece_count     231653 non-null  int64 \n",
      " 10  rows            231653 non-null  int64 \n",
      " 11  stochastic_nub  231653 non-null  bool  \n",
      " 12  width           231653 non-null  int64 \n",
      "dtypes: bool(1), int64(10), object(2)\n",
      "memory usage: 21.4+ MB\n"
     ]
    }
   ],
   "source": [
    "ds.df.info()"
   ]
  },
  {
   "cell_type": "code",
   "execution_count": 26,
   "metadata": {},
   "outputs": [
    {
     "data": {
      "image/png": "[encoded data removed]",
      "text/plain": [
       "<Figure size 600x600 with 3 Axes>"
      ]
     },
     "metadata": {},
     "output_type": "display_data"
    }
   ],
   "source": [
    "sns.set_theme(style=\"whitegrid\")\n",
    "g = sns.jointplot(data=ds.df, x=\"cols\", y=\"rows\", kind=\"hist\", discrete=(True, True))\n",
    "g.ax_marg_x.hist(ds.df[\"cols\"], bins=13)\n",
    "g.ax_marg_y.hist(ds.df[\"rows\"], bins=10, orientation='horizontal')\n",
    "g.ax_joint.set_xticks(range(1, 12))\n",
    "g.ax_joint.set_yticks(range(1, 10))\n",
    "sns.despine(trim=True, offset=2)"
   ]
  },
  {
   "cell_type": "code",
   "execution_count": 4,
   "metadata": {},
   "outputs": [
    {
     "name": "stdout",
     "output_type": "stream",
     "text": [
      "INFO: Pandarallel will run on 16 workers.\n",
      "INFO: Pandarallel will use Memory file system to transfer data between the main process and workers.\n"
     ]
    },
    {
     "data": {
      "application/vnd.jupyter.widget-view+json": {
       "model_id": "ec4a866abbe34f8a9ee5b574d0944fe4",
       "version_major": 2,
       "version_minor": 0
      },
      "text/plain": [
       "VBox(children=(HBox(children=(IntProgress(value=0, description='0.00%', max=14479), Label(value='0 / 14479')))…"
      ]
     },
     "metadata": {},
     "output_type": "display_data"
    },
    {
     "name": "stdout",
     "output_type": "stream",
     "text": [
      "Dropping 0 rows\n"
     ]
    }
   ],
   "source": [
    "ds._update_min_dimensions()"
   ]
  },
  {
   "cell_type": "code",
   "execution_count": 7,
   "metadata": {},
   "outputs": [],
   "source": [
    "ds.df = (\n",
    "            ds.df\n",
    "            .reset_index(drop=True)\n",
    "            .astype(\n",
    "                {\n",
    "                    \"min_width\": \"int16\",\n",
    "                    \"min_height\": \"int16\",\n",
    "                    \"max_width\": \"int16\",\n",
    "                    \"max_height\": \"int16\",\n",
    "                    \"width\": \"int16\",\n",
    "                    \"height\": \"int16\",\n",
    "                    \"rows\": \"uint8\",\n",
    "                    \"cols\": \"uint8\",\n",
    "                    \"image_id\": str,\n",
    "                    \"class_id\": str,\n",
    "                    \"num_sample\": \"uint32\",\n",
    "                    \"stochastic_nub\": \"bool\",\n",
    "                }\n",
    "            )\n",
    "        )"
   ]
  },
  {
   "cell_type": "code",
   "execution_count": 10,
   "metadata": {},
   "outputs": [
    {
     "name": "stdout",
     "output_type": "stream",
     "text": [
      "<class 'pandas.core.frame.DataFrame'>\n",
      "RangeIndex: 231653 entries, 0 to 231652\n",
      "Data columns (total 13 columns):\n",
      " #   Column          Non-Null Count   Dtype \n",
      "---  ------          --------------   ----- \n",
      " 0   image_id        231653 non-null  object\n",
      " 1   class_id        231653 non-null  object\n",
      " 2   cols            231653 non-null  uint8 \n",
      " 3   height          231653 non-null  int16 \n",
      " 4   max_height      231653 non-null  int16 \n",
      " 5   max_width       231653 non-null  int16 \n",
      " 6   min_height      231653 non-null  int16 \n",
      " 7   min_width       231653 non-null  int16 \n",
      " 8   num_sample      231653 non-null  uint32\n",
      " 9   piece_count     231653 non-null  int64 \n",
      " 10  rows            231653 non-null  uint8 \n",
      " 11  stochastic_nub  231653 non-null  bool  \n",
      " 12  width           231653 non-null  int16 \n",
      "dtypes: bool(1), int16(6), int64(1), object(2), uint32(1), uint8(2)\n",
      "memory usage: 9.5+ MB\n"
     ]
    }
   ],
   "source": [
    "ds.df = ds.df.drop(columns=[\"PredictionString\"])\n",
    "ds.df.info()"
   ]
  },
  {
   "cell_type": "code",
   "execution_count": 3,
   "metadata": {},
   "outputs": [
    {
     "name": "stdout",
     "output_type": "stream",
     "text": [
      "INFO: Pandarallel will run on 16 workers.\n",
      "INFO: Pandarallel will use Memory file system to transfer data between the main process and workers.\n"
     ]
    },
    {
     "data": {
      "application/vnd.jupyter.widget-view+json": {
       "model_id": "d03191b3e0bc49a98eebadc4d2c0e6d5",
       "version_major": 2,
       "version_minor": 0
      },
      "text/plain": [
       "VBox(children=(HBox(children=(IntProgress(value=0, description='0.00%', max=3125), Label(value='0 / 3125'))), …"
      ]
     },
     "metadata": {},
     "output_type": "display_data"
    }
   ],
   "source": [
    "from data_handling import ImageNetParser\n",
    "from dl_solver import Config\n",
    "config = Config(is_multiproc=True)\n",
    "imagenet_parser = ImageNetParser(config)\n",
    "df = imagenet_parser.read_solution_csv(\"val\").pipe(imagenet_parser.to_jigsaw, \"val\")"
   ]
  },
  {
   "cell_type": "code",
   "execution_count": 2,
   "metadata": {},
   "outputs": [],
   "source": [
    "import pandas as pd\n",
    "from pathlib import Path"
   ]
  },
  {
   "cell_type": "code",
   "execution_count": 29,
   "metadata": {},
   "outputs": [],
   "source": [
    "downloads = Path(\"/mnt/c/Users/jandu/Downloads\")\n",
    "assert downloads.exists()\n",
    "files = downloads.glob(\"*_step.csv\")"
   ]
  },
  {
   "cell_type": "code",
   "execution_count": 30,
   "metadata": {},
   "outputs": [
    {
     "data": {
      "text/html": [
       "<div>\n",
       "<style scoped>\n",
       "    .dataframe tbody tr th:only-of-type {\n",
       "        vertical-align: middle;\n",
       "    }\n",
       "\n",
       "    .dataframe tbody tr th {\n",
       "        vertical-align: top;\n",
       "    }\n",
       "\n",
       "    .dataframe thead th {\n",
       "        text-align: right;\n",
       "    }\n",
       "</style>\n",
       "<table border=\"1\" class=\"dataframe\">\n",
       "  <thead>\n",
       "    <tr style=\"text-align: right;\">\n",
       "      <th></th>\n",
       "      <th>Wall time</th>\n",
       "      <th>ce_loss_cols_step</th>\n",
       "      <th>Wall time</th>\n",
       "      <th>ce_loss_rot_step</th>\n",
       "      <th>Wall time</th>\n",
       "      <th>ce_loss_row_step</th>\n",
       "      <th>Wall time</th>\n",
       "      <th>mse_los_pos_step</th>\n",
       "      <th>Wall time</th>\n",
       "      <th>unique_loss_step</th>\n",
       "    </tr>\n",
       "    <tr>\n",
       "      <th>Step</th>\n",
       "      <th></th>\n",
       "      <th></th>\n",
       "      <th></th>\n",
       "      <th></th>\n",
       "      <th></th>\n",
       "      <th></th>\n",
       "      <th></th>\n",
       "      <th></th>\n",
       "      <th></th>\n",
       "      <th></th>\n",
       "    </tr>\n",
       "  </thead>\n",
       "  <tbody>\n",
       "    <tr>\n",
       "      <th>7</th>\n",
       "      <td>1.715357e+09</td>\n",
       "      <td>2.381173</td>\n",
       "      <td>1.715357e+09</td>\n",
       "      <td>2.099997</td>\n",
       "      <td>1.715357e+09</td>\n",
       "      <td>1.327623</td>\n",
       "      <td>1.715357e+09</td>\n",
       "      <td>2.519276</td>\n",
       "      <td>1.715357e+09</td>\n",
       "      <td>9.970558</td>\n",
       "    </tr>\n",
       "    <tr>\n",
       "      <th>15</th>\n",
       "      <td>1.715357e+09</td>\n",
       "      <td>3.504081</td>\n",
       "      <td>1.715357e+09</td>\n",
       "      <td>1.403173</td>\n",
       "      <td>1.715357e+09</td>\n",
       "      <td>2.603154</td>\n",
       "      <td>1.715357e+09</td>\n",
       "      <td>2.078125</td>\n",
       "      <td>1.715357e+09</td>\n",
       "      <td>11.000000</td>\n",
       "    </tr>\n",
       "    <tr>\n",
       "      <th>23</th>\n",
       "      <td>1.715357e+09</td>\n",
       "      <td>3.611053</td>\n",
       "      <td>1.715357e+09</td>\n",
       "      <td>1.406617</td>\n",
       "      <td>1.715357e+09</td>\n",
       "      <td>1.478242</td>\n",
       "      <td>1.715357e+09</td>\n",
       "      <td>2.083333</td>\n",
       "      <td>1.715357e+09</td>\n",
       "      <td>11.000000</td>\n",
       "    </tr>\n",
       "    <tr>\n",
       "      <th>31</th>\n",
       "      <td>1.715357e+09</td>\n",
       "      <td>3.981299</td>\n",
       "      <td>1.715357e+09</td>\n",
       "      <td>1.394740</td>\n",
       "      <td>1.715357e+09</td>\n",
       "      <td>1.301174</td>\n",
       "      <td>1.715357e+09</td>\n",
       "      <td>2.072917</td>\n",
       "      <td>1.715357e+09</td>\n",
       "      <td>11.000000</td>\n",
       "    </tr>\n",
       "    <tr>\n",
       "      <th>39</th>\n",
       "      <td>1.715357e+09</td>\n",
       "      <td>3.889863</td>\n",
       "      <td>1.715357e+09</td>\n",
       "      <td>1.407605</td>\n",
       "      <td>1.715357e+09</td>\n",
       "      <td>1.441430</td>\n",
       "      <td>1.715357e+09</td>\n",
       "      <td>2.083333</td>\n",
       "      <td>1.715357e+09</td>\n",
       "      <td>11.000000</td>\n",
       "    </tr>\n",
       "  </tbody>\n",
       "</table>\n",
       "</div>"
      ],
      "text/plain": [
       "         Wall time  ce_loss_cols_step     Wall time  ce_loss_rot_step  \\\n",
       "Step                                                                    \n",
       "7     1.715357e+09           2.381173  1.715357e+09          2.099997   \n",
       "15    1.715357e+09           3.504081  1.715357e+09          1.403173   \n",
       "23    1.715357e+09           3.611053  1.715357e+09          1.406617   \n",
       "31    1.715357e+09           3.981299  1.715357e+09          1.394740   \n",
       "39    1.715357e+09           3.889863  1.715357e+09          1.407605   \n",
       "\n",
       "         Wall time  ce_loss_row_step     Wall time  mse_los_pos_step  \\\n",
       "Step                                                                   \n",
       "7     1.715357e+09          1.327623  1.715357e+09          2.519276   \n",
       "15    1.715357e+09          2.603154  1.715357e+09          2.078125   \n",
       "23    1.715357e+09          1.478242  1.715357e+09          2.083333   \n",
       "31    1.715357e+09          1.301174  1.715357e+09          2.072917   \n",
       "39    1.715357e+09          1.441430  1.715357e+09          2.083333   \n",
       "\n",
       "         Wall time  unique_loss_step  \n",
       "Step                                  \n",
       "7     1.715357e+09          9.970558  \n",
       "15    1.715357e+09         11.000000  \n",
       "23    1.715357e+09         11.000000  \n",
       "31    1.715357e+09         11.000000  \n",
       "39    1.715357e+09         11.000000  "
      ]
     },
     "execution_count": 30,
     "metadata": {},
     "output_type": "execute_result"
    }
   ],
   "source": [
    "dfs = {file.stem: pd.read_csv(file).rename(columns={\"Value\": file.stem}).set_index(\"Step\") for file in files}\n",
    "\n",
    "merged_df = pd.concat(dfs.values(), axis=1)\n",
    "merged_df.head()"
   ]
  },
  {
   "cell_type": "code",
   "execution_count": 31,
   "metadata": {},
   "outputs": [],
   "source": [
    "merged_df = merged_df.drop(columns=[\"Wall time\"])"
   ]
  },
  {
   "cell_type": "code",
   "execution_count": 39,
   "metadata": {},
   "outputs": [],
   "source": [
    "merged_df = merged_df.astype('float32').rename(columns={\n",
    "    \"ce_loss_cols_step\":\"ce_loss_col\",\n",
    "    \"ce_loss_rot_step\": \"ce_loss_rot\",\n",
    "    \"ce_loss_row_step\": \"ce_loss_row\",\n",
    "    \"mse_los_pos_step\": \"mse_loss_pos\",\n",
    "    \"unique_loss_step\": \"unique_loss\"\n",
    "})"
   ]
  },
  {
   "cell_type": "code",
   "execution_count": 54,
   "metadata": {},
   "outputs": [],
   "source": [
    "merged_df.to_csv(index=True, path_or_buf=downloads / \"losses.csv\")"
   ]
  },
  {
   "cell_type": "code",
   "execution_count": 41,
   "metadata": {},
   "outputs": [
    {
     "data": {
      "text/plain": [
       "PosixPath('/mnt/c/Users/jandu/Downloads/losses.csv')"
      ]
     },
     "execution_count": 41,
     "metadata": {},
     "output_type": "execute_result"
    }
   ],
   "source": [
    "downloads / \"losses.csv\""
   ]
  },
  {
   "cell_type": "code",
   "execution_count": 53,
   "metadata": {},
   "outputs": [
    {
     "data": {
      "text/html": [
       "<div>\n",
       "<style scoped>\n",
       "    .dataframe tbody tr th:only-of-type {\n",
       "        vertical-align: middle;\n",
       "    }\n",
       "\n",
       "    .dataframe tbody tr th {\n",
       "        vertical-align: top;\n",
       "    }\n",
       "\n",
       "    .dataframe thead th {\n",
       "        text-align: right;\n",
       "    }\n",
       "</style>\n",
       "<table border=\"1\" class=\"dataframe\">\n",
       "  <thead>\n",
       "    <tr style=\"text-align: right;\">\n",
       "      <th></th>\n",
       "      <th>ce_loss_col</th>\n",
       "      <th>ce_loss_rot</th>\n",
       "      <th>ce_loss_row</th>\n",
       "      <th>mse_loss_pos</th>\n",
       "      <th>unique_loss</th>\n",
       "    </tr>\n",
       "    <tr>\n",
       "      <th>Step</th>\n",
       "      <th></th>\n",
       "      <th></th>\n",
       "      <th></th>\n",
       "      <th></th>\n",
       "      <th></th>\n",
       "    </tr>\n",
       "  </thead>\n",
       "  <tbody>\n",
       "    <tr>\n",
       "      <th>7</th>\n",
       "      <td>2.381173</td>\n",
       "      <td>2.099997</td>\n",
       "      <td>1.327623</td>\n",
       "      <td>2.519276</td>\n",
       "      <td>9.970558</td>\n",
       "    </tr>\n",
       "    <tr>\n",
       "      <th>15</th>\n",
       "      <td>3.504081</td>\n",
       "      <td>1.403173</td>\n",
       "      <td>2.603154</td>\n",
       "      <td>2.078125</td>\n",
       "      <td>11.000000</td>\n",
       "    </tr>\n",
       "    <tr>\n",
       "      <th>23</th>\n",
       "      <td>3.611053</td>\n",
       "      <td>1.406617</td>\n",
       "      <td>1.478242</td>\n",
       "      <td>2.083333</td>\n",
       "      <td>11.000000</td>\n",
       "    </tr>\n",
       "    <tr>\n",
       "      <th>31</th>\n",
       "      <td>3.981299</td>\n",
       "      <td>1.394740</td>\n",
       "      <td>1.301174</td>\n",
       "      <td>2.072917</td>\n",
       "      <td>11.000000</td>\n",
       "    </tr>\n",
       "    <tr>\n",
       "      <th>39</th>\n",
       "      <td>3.889863</td>\n",
       "      <td>1.407605</td>\n",
       "      <td>1.441430</td>\n",
       "      <td>2.083333</td>\n",
       "      <td>11.000000</td>\n",
       "    </tr>\n",
       "    <tr>\n",
       "      <th>47</th>\n",
       "      <td>3.349060</td>\n",
       "      <td>1.401031</td>\n",
       "      <td>2.243500</td>\n",
       "      <td>1.205486</td>\n",
       "      <td>7.209046</td>\n",
       "    </tr>\n",
       "    <tr>\n",
       "      <th>55</th>\n",
       "      <td>2.646821</td>\n",
       "      <td>1.407509</td>\n",
       "      <td>3.913473</td>\n",
       "      <td>1.083333</td>\n",
       "      <td>11.000000</td>\n",
       "    </tr>\n",
       "    <tr>\n",
       "      <th>63</th>\n",
       "      <td>1.924240</td>\n",
       "      <td>1.396748</td>\n",
       "      <td>1.321816</td>\n",
       "      <td>1.103810</td>\n",
       "      <td>9.433698</td>\n",
       "    </tr>\n",
       "    <tr>\n",
       "      <th>71</th>\n",
       "      <td>2.805701</td>\n",
       "      <td>1.411385</td>\n",
       "      <td>3.298040</td>\n",
       "      <td>1.583333</td>\n",
       "      <td>11.000000</td>\n",
       "    </tr>\n",
       "    <tr>\n",
       "      <th>79</th>\n",
       "      <td>2.055632</td>\n",
       "      <td>1.400407</td>\n",
       "      <td>3.227340</td>\n",
       "      <td>2.583333</td>\n",
       "      <td>11.000000</td>\n",
       "    </tr>\n",
       "    <tr>\n",
       "      <th>87</th>\n",
       "      <td>3.518648</td>\n",
       "      <td>1.394995</td>\n",
       "      <td>3.952332</td>\n",
       "      <td>2.583333</td>\n",
       "      <td>11.000000</td>\n",
       "    </tr>\n",
       "    <tr>\n",
       "      <th>95</th>\n",
       "      <td>1.932938</td>\n",
       "      <td>1.386568</td>\n",
       "      <td>2.344739</td>\n",
       "      <td>2.567708</td>\n",
       "      <td>11.000000</td>\n",
       "    </tr>\n",
       "    <tr>\n",
       "      <th>103</th>\n",
       "      <td>1.744585</td>\n",
       "      <td>1.397371</td>\n",
       "      <td>1.201679</td>\n",
       "      <td>2.083333</td>\n",
       "      <td>11.000000</td>\n",
       "    </tr>\n",
       "    <tr>\n",
       "      <th>111</th>\n",
       "      <td>1.891714</td>\n",
       "      <td>1.384550</td>\n",
       "      <td>1.682988</td>\n",
       "      <td>1.695664</td>\n",
       "      <td>5.781348</td>\n",
       "    </tr>\n",
       "    <tr>\n",
       "      <th>119</th>\n",
       "      <td>2.129384</td>\n",
       "      <td>1.395621</td>\n",
       "      <td>2.918177</td>\n",
       "      <td>2.069201</td>\n",
       "      <td>10.659720</td>\n",
       "    </tr>\n",
       "    <tr>\n",
       "      <th>127</th>\n",
       "      <td>1.686093</td>\n",
       "      <td>1.393003</td>\n",
       "      <td>2.289095</td>\n",
       "      <td>2.083333</td>\n",
       "      <td>11.000000</td>\n",
       "    </tr>\n",
       "  </tbody>\n",
       "</table>\n",
       "</div>"
      ],
      "text/plain": [
       "      ce_loss_col  ce_loss_rot  ce_loss_row  mse_loss_pos  unique_loss\n",
       "Step                                                                  \n",
       "7        2.381173     2.099997     1.327623      2.519276     9.970558\n",
       "15       3.504081     1.403173     2.603154      2.078125    11.000000\n",
       "23       3.611053     1.406617     1.478242      2.083333    11.000000\n",
       "31       3.981299     1.394740     1.301174      2.072917    11.000000\n",
       "39       3.889863     1.407605     1.441430      2.083333    11.000000\n",
       "47       3.349060     1.401031     2.243500      1.205486     7.209046\n",
       "55       2.646821     1.407509     3.913473      1.083333    11.000000\n",
       "63       1.924240     1.396748     1.321816      1.103810     9.433698\n",
       "71       2.805701     1.411385     3.298040      1.583333    11.000000\n",
       "79       2.055632     1.400407     3.227340      2.583333    11.000000\n",
       "87       3.518648     1.394995     3.952332      2.583333    11.000000\n",
       "95       1.932938     1.386568     2.344739      2.567708    11.000000\n",
       "103      1.744585     1.397371     1.201679      2.083333    11.000000\n",
       "111      1.891714     1.384550     1.682988      1.695664     5.781348\n",
       "119      2.129384     1.395621     2.918177      2.069201    10.659720\n",
       "127      1.686093     1.393003     2.289095      2.083333    11.000000"
      ]
     },
     "execution_count": 53,
     "metadata": {},
     "output_type": "execute_result"
    }
   ],
   "source": [
    "merged_df"
   ]
  },
  {
   "cell_type": "markdown",
   "metadata": {},
   "source": []
  }
 ],
 "metadata": {
  "kernelspec": {
   "display_name": "prj-robotik",
   "language": "python",
   "name": "python3"
  },
  "language_info": {
   "codemirror_mode": {
    "name": "ipython",
    "version": 3
   },
   "file_extension": ".py",
   "mimetype": "text/x-python",
   "name": "python",
   "nbconvert_exporter": "python",
   "pygments_lexer": "ipython3",
   "version": "3.12.2"
  }
 },
 "nbformat": 4,
 "nbformat_minor": 2
}
